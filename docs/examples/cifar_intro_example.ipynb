{
 "cells": [
  {
   "cell_type": "markdown",
   "metadata": {},
   "source": [
    "# Concept Activation Vectors (CAVs) example on CIFAR data\n",
    "### Peter Xenopoulos\n",
    "\n",
    "In this workbook, we will go over how to use CAVs on some popular image data -- the CIFAR datasets."
   ]
  },
  {
   "cell_type": "code",
   "execution_count": 1,
   "metadata": {},
   "outputs": [
    {
     "name": "stderr",
     "output_type": "stream",
     "text": [
      "Using TensorFlow backend.\n"
     ]
    }
   ],
   "source": [
    "import numpy as np\n",
    "import matplotlib.pyplot as plt\n",
    "import cv2\n",
    "\n",
    "import keras\n",
    "from keras.datasets import cifar100, cifar10\n",
    "from keras.preprocessing.image import ImageDataGenerator\n",
    "from keras.models import Sequential\n",
    "from keras.layers import Dense, Dropout, Activation, Flatten\n",
    "from keras.layers import Conv2D, MaxPooling2D\n",
    "\n",
    "import sys\n",
    "import os\n",
    "sys.path.insert(0, os.path.abspath('../..'))\n",
    "\n",
    "from cav.cav import *\n",
    "\n",
    "np.random.seed(1996)"
   ]
  },
  {
   "cell_type": "markdown",
   "metadata": {},
   "source": [
    "First we must import some images from CIFAR-10. We will import the _ships_ and the _dog_ images."
   ]
  },
  {
   "cell_type": "code",
   "execution_count": 2,
   "metadata": {},
   "outputs": [],
   "source": [
    "(x_train, y_train), (x_test, y_test) = cifar10.load_data()\n",
    "\n",
    "# Keep airplanes (5) and ships (8) from CIFAR-10\n",
    "ships = y_train == [8]\n",
    "ship_indx = [i for i, x in enumerate(ships) if x]\n",
    "x_train_class_one = x_train[ship_indx]\n",
    "other = y_train == [2]\n",
    "other_indx = [i for i, x in enumerate(other) if x]\n",
    "x_train_class_two = x_train[other_indx]\n",
    "\n",
    "x_train = np.append(x_train_class_one, x_train_class_two, axis = 0)\n",
    "y_train = [1] * 5000\n",
    "y_train = y_train + [0] * 5000"
   ]
  },
  {
   "cell_type": "markdown",
   "metadata": {},
   "source": [
    "Below is an example of some of the images"
   ]
  },
  {
   "cell_type": "code",
   "execution_count": 3,
   "metadata": {},
   "outputs": [
    {
     "data": {
      "text/plain": [
       "<matplotlib.image.AxesImage at 0x12db6b588>"
      ]
     },
     "execution_count": 3,
     "metadata": {},
     "output_type": "execute_result"
    },
    {
     "data": {
      "image/png": "[encoded data removed]",
      "text/plain": [
       "<matplotlib.figure.Figure at 0x12daca7f0>"
      ]
     },
     "metadata": {},
     "output_type": "display_data"
    }
   ],
   "source": [
    "f, axarr = plt.subplots(1,2)\n",
    "axarr[0].imshow(x_train[0])\n",
    "axarr[1].imshow(x_train[7777])"
   ]
  },
  {
   "cell_type": "markdown",
   "metadata": {},
   "source": [
    "Next, we must specify a _concept_. This is a certain idea we want to capture from our pictures. Let's say we are interested in the concept of the _sea_. Let's load in CIFAR-100 to get some pictures of the sea and some random counterexample, which we'll just make apples for ease of use."
   ]
  },
  {
   "cell_type": "code",
   "execution_count": 4,
   "metadata": {},
   "outputs": [],
   "source": [
    "(x_train_concept, y_train_concept), (x_test_concept, y_test_concept) = cifar100.load_data()\n",
    "\n",
    "# keep sea (54) from CIFAR-100\n",
    "concept = y_train_concept == [71]\n",
    "indices = concept\n",
    "indx_to_use = [i for i, x in enumerate(indices) if x]\n",
    "\n",
    "x_train_concept = x_train_concept[indx_to_use]\n",
    "y_train_concept = [1] * 500\n",
    "y_train_concept = y_train_concept + [0] * 500\n",
    "\n",
    "counterexamples = create_counterexamples(n = 500, height = 32, width = 32, channels = 3)\n",
    "x_train_concept = np.append(x_train_concept, counterexamples, axis = 0)"
   ]
  },
  {
   "cell_type": "code",
   "execution_count": 6,
   "metadata": {},
   "outputs": [
    {
     "data": {
      "text/plain": [
       "<matplotlib.image.AxesImage at 0x12dd74f60>"
      ]
     },
     "execution_count": 6,
     "metadata": {},
     "output_type": "execute_result"
    },
    {
     "data": {
      "image/png": "[encoded data removed]",
      "text/plain": [
       "<matplotlib.figure.Figure at 0x12dbcb908>"
      ]
     },
     "metadata": {},
     "output_type": "display_data"
    }
   ],
   "source": [
    "f, axarr = plt.subplots(1,2)\n",
    "axarr[0].imshow(x_train_concept[0])\n",
    "axarr[1].imshow(x_train_concept[777])"
   ]
  },
  {
   "cell_type": "markdown",
   "metadata": {},
   "source": [
    "Now, we must train our initial model. We do so below."
   ]
  },
  {
   "cell_type": "code",
   "execution_count": 7,
   "metadata": {},
   "outputs": [
    {
     "name": "stdout",
     "output_type": "stream",
     "text": [
      "Epoch 1/3\n",
      "10000/10000 [==============================] - 30s 3ms/step - loss: 0.3531 - acc: 0.8390\n",
      "Epoch 2/3\n",
      "10000/10000 [==============================] - 29s 3ms/step - loss: 0.2277 - acc: 0.9073\n",
      "Epoch 3/3\n",
      "10000/10000 [==============================] - 29s 3ms/step - loss: 0.2000 - acc: 0.9217\n"
     ]
    },
    {
     "data": {
      "text/plain": [
       "<keras.callbacks.History at 0x12df47e80>"
      ]
     },
     "execution_count": 7,
     "metadata": {},
     "output_type": "execute_result"
    }
   ],
   "source": [
    "# Set parameters\n",
    "batch_size = 32\n",
    "epochs = 3\n",
    "\n",
    "model = Sequential()\n",
    "model.add(Conv2D(32, (3, 3), padding='same',\n",
    "                 input_shape=x_train.shape[1:]))\n",
    "model.add(Activation('relu'))\n",
    "model.add(Conv2D(32, (3, 3)))\n",
    "model.add(Activation('relu'))\n",
    "model.add(MaxPooling2D(pool_size=(2, 2)))\n",
    "model.add(Dropout(0.25))\n",
    "\n",
    "model.add(Conv2D(64, (3, 3), padding='same'))\n",
    "model.add(Activation('relu'))\n",
    "model.add(Conv2D(64, (3, 3)))\n",
    "model.add(Activation('relu'))\n",
    "model.add(MaxPooling2D(pool_size=(2, 2)))\n",
    "model.add(Dropout(0.25))\n",
    "\n",
    "model.add(Flatten())\n",
    "model.add(Dense(512))\n",
    "model.add(Activation('relu'))\n",
    "model.add(Dropout(0.5))\n",
    "model.add(Dense(1))\n",
    "model.add(Activation('sigmoid'))\n",
    "\n",
    "# initiate optimizer\n",
    "opt = keras.optimizers.Adam(lr=0.001)\n",
    "\n",
    "# train the model\n",
    "model.compile(loss='binary_crossentropy', optimizer=opt, metrics=['accuracy'])\n",
    "\n",
    "x_train = x_train.astype('float32')\n",
    "x_test = x_test.astype('float32')\n",
    "x_train /= 255\n",
    "x_test /= 255\n",
    "\n",
    "model.fit(x_train, y_train, batch_size=batch_size, epochs=epochs, shuffle=True)"
   ]
  },
  {
   "cell_type": "code",
   "execution_count": 8,
   "metadata": {},
   "outputs": [
    {
     "name": "stdout",
     "output_type": "stream",
     "text": [
      "_________________________________________________________________\n",
      "Layer (type)                 Output Shape              Param #   \n",
      "=================================================================\n",
      "conv2d_1 (Conv2D)            (None, 32, 32, 32)        896       \n",
      "_________________________________________________________________\n",
      "activation_1 (Activation)    (None, 32, 32, 32)        0         \n",
      "_________________________________________________________________\n",
      "conv2d_2 (Conv2D)            (None, 30, 30, 32)        9248      \n",
      "_________________________________________________________________\n",
      "activation_2 (Activation)    (None, 30, 30, 32)        0         \n",
      "_________________________________________________________________\n",
      "max_pooling2d_1 (MaxPooling2 (None, 15, 15, 32)        0         \n",
      "_________________________________________________________________\n",
      "dropout_1 (Dropout)          (None, 15, 15, 32)        0         \n",
      "_________________________________________________________________\n",
      "conv2d_3 (Conv2D)            (None, 15, 15, 64)        18496     \n",
      "_________________________________________________________________\n",
      "activation_3 (Activation)    (None, 15, 15, 64)        0         \n",
      "_________________________________________________________________\n",
      "conv2d_4 (Conv2D)            (None, 13, 13, 64)        36928     \n",
      "_________________________________________________________________\n",
      "activation_4 (Activation)    (None, 13, 13, 64)        0         \n",
      "_________________________________________________________________\n",
      "max_pooling2d_2 (MaxPooling2 (None, 6, 6, 64)          0         \n",
      "_________________________________________________________________\n",
      "dropout_2 (Dropout)          (None, 6, 6, 64)          0         \n",
      "_________________________________________________________________\n",
      "flatten_1 (Flatten)          (None, 2304)              0         \n",
      "_________________________________________________________________\n",
      "dense_1 (Dense)              (None, 512)               1180160   \n",
      "_________________________________________________________________\n",
      "activation_5 (Activation)    (None, 512)               0         \n",
      "_________________________________________________________________\n",
      "dropout_3 (Dropout)          (None, 512)               0         \n",
      "_________________________________________________________________\n",
      "dense_2 (Dense)              (None, 1)                 513       \n",
      "_________________________________________________________________\n",
      "activation_6 (Activation)    (None, 1)                 0         \n",
      "=================================================================\n",
      "Total params: 1,246,241\n",
      "Trainable params: 1,246,241\n",
      "Non-trainable params: 0\n",
      "_________________________________________________________________\n"
     ]
    }
   ],
   "source": [
    "model.summary()"
   ]
  },
  {
   "cell_type": "markdown",
   "metadata": {},
   "source": [
    "First, we split our model on a given layer. We can see that the last convolution layer is layer 8, but in order for our method to work, we need to include the activations and pooling and flattening. So, we will split on layer 12. Then, we train a binary classifier on our concepts. This will produce our concept activation vector."
   ]
  },
  {
   "cell_type": "code",
   "execution_count": 9,
   "metadata": {},
   "outputs": [
    {
     "name": "stdout",
     "output_type": "stream",
     "text": [
      "Epoch 1/1\n",
      "1000/1000 [==============================] - 0s 225us/step - loss: 0.2053 - acc: 0.9600\n"
     ]
    }
   ],
   "source": [
    "model_f, model_h = return_split_models(model, 12)\n",
    "cav_vec = train_cav(model_f, x_train_concept, y_train_concept)"
   ]
  },
  {
   "cell_type": "markdown",
   "metadata": {},
   "source": [
    "Below we see the concept activation vector"
   ]
  },
  {
   "cell_type": "code",
   "execution_count": 10,
   "metadata": {},
   "outputs": [
    {
     "data": {
      "text/plain": [
       "array([[-0.00449354],\n",
       "       [ 0.0369009 ],\n",
       "       [ 0.00166599],\n",
       "       ...,\n",
       "       [ 0.03432865],\n",
       "       [ 0.03799578],\n",
       "       [ 0.00332845]], dtype=float32)"
      ]
     },
     "execution_count": 10,
     "metadata": {},
     "output_type": "execute_result"
    }
   ],
   "source": [
    "cav_vec"
   ]
  },
  {
   "cell_type": "markdown",
   "metadata": {},
   "source": [
    "Now, for each original training example, we calculate the sensitivity to the concept using our `cav_vec`"
   ]
  },
  {
   "cell_type": "code",
   "execution_count": 11,
   "metadata": {},
   "outputs": [],
   "source": [
    "sensitivities = conceptual_sensitivity(x_train, model_f, model_h, cav_vec)"
   ]
  },
  {
   "cell_type": "code",
   "execution_count": 12,
   "metadata": {},
   "outputs": [
    {
     "data": {
      "text/plain": [
       "array([[-7.6736679e-04],\n",
       "       [-5.0987466e-04],\n",
       "       [-1.3415599e-02],\n",
       "       ...,\n",
       "       [-3.6195084e-02],\n",
       "       [-7.2273135e-05],\n",
       "       [-2.2597540e-02]], dtype=float32)"
      ]
     },
     "execution_count": 12,
     "metadata": {},
     "output_type": "execute_result"
    }
   ],
   "source": [
    "sensitivities[0:4999]"
   ]
  },
  {
   "cell_type": "code",
   "execution_count": 13,
   "metadata": {},
   "outputs": [
    {
     "data": {
      "text/plain": [
       "array([[-0.0003502 ],\n",
       "       [-0.11448987],\n",
       "       [-0.00817972],\n",
       "       ...,\n",
       "       [-0.00130233],\n",
       "       [-0.10007101],\n",
       "       [-0.00027492]], dtype=float32)"
      ]
     },
     "execution_count": 13,
     "metadata": {},
     "output_type": "execute_result"
    }
   ],
   "source": [
    "sensitivities[5000:]"
   ]
  },
  {
   "cell_type": "code",
   "execution_count": 18,
   "metadata": {},
   "outputs": [
    {
     "data": {
      "image/png": "[encoded data removed]",
      "text/plain": [
       "<matplotlib.figure.Figure at 0x1354e9908>"
      ]
     },
     "metadata": {},
     "output_type": "display_data"
    }
   ],
   "source": [
    "import seaborn as sns, numpy as np\n",
    "sns.distplot(sensitivities)\n",
    "plt.legend()"
   ]
  },
  {
   "cell_type": "code",
   "execution_count": 19,
   "metadata": {},
   "outputs": [
    {
     "data": {
      "text/plain": [
       "-0.021019595"
      ]
     },
     "execution_count": 19,
     "metadata": {},
     "output_type": "execute_result"
    }
   ],
   "source": [
    "np.mean(sensitivities[0:4999])"
   ]
  },
  {
   "cell_type": "code",
   "execution_count": 20,
   "metadata": {},
   "outputs": [
    {
     "data": {
      "text/plain": [
       "-0.023780948"
      ]
     },
     "execution_count": 20,
     "metadata": {},
     "output_type": "execute_result"
    }
   ],
   "source": [
    "np.mean(sensitivities[5000:])"
   ]
  },
  {
   "cell_type": "markdown",
   "metadata": {},
   "source": [
    "# below is test"
   ]
  },
  {
   "cell_type": "code",
   "execution_count": null,
   "metadata": {},
   "outputs": [],
   "source": [
    "# Set parameters\n",
    "batch_size = 32\n",
    "epochs = 3"
   ]
  },
  {
   "cell_type": "code",
   "execution_count": null,
   "metadata": {},
   "outputs": [],
   "source": [
    "# The data, split between train and test sets:\n",
    "(x_train, y_train), (x_test, y_test) = cifar10.load_data()\n",
    "\n",
    "# Keep airplanes (0) and ships (8) from CIFAR-10\n",
    "airplanes = y_train == [0]\n",
    "ships = y_train == [8]\n",
    "indices = airplanes + ships\n",
    "indx_to_use = [i for i, x in enumerate(indices) if x]\n",
    "\n",
    "x_train = x_train[indx_to_use]\n",
    "y_train = y_train[indx_to_use]\n",
    "\n",
    "y_train = (y_train == 8).astype(int)\n",
    "y_train = np.concatenate(y_train).ravel().tolist()\n",
    "\n",
    "# Ships are now 1, airplanes are 0\n",
    "\n",
    "# keep cloud (50) and sea (54) from CIFAR-100\n",
    "(x_train_concept, y_train_concept), (x_test_concept, y_test_concept) = cifar100.load_data()\n",
    "\n",
    "other = y_train_concept == [47]\n",
    "concept = y_train_concept == [54]\n",
    "indices = other + concept\n",
    "indx_to_use = [i for i, x in enumerate(indices) if x]\n",
    "\n",
    "x_train_concept = x_train_concept[indx_to_use]\n",
    "y_train_concept = y_train_concept[indx_to_use]\n",
    "y_train_concept = (y_train_concept == 54).astype(int)\n",
    "y_train_concept = np.concatenate(y_train_concept).ravel().tolist()\n",
    "# Sea is now 1, clouds are 0"
   ]
  },
  {
   "cell_type": "code",
   "execution_count": null,
   "metadata": {},
   "outputs": [],
   "source": [
    "model = Sequential()\n",
    "model.add(Conv2D(32, (3, 3), padding='same',\n",
    "                 input_shape=x_train.shape[1:]))\n",
    "model.add(Activation('relu'))\n",
    "model.add(Conv2D(32, (3, 3)))\n",
    "model.add(Activation('relu'))\n",
    "model.add(MaxPooling2D(pool_size=(2, 2)))\n",
    "model.add(Dropout(0.25))\n",
    "\n",
    "model.add(Conv2D(64, (3, 3), padding='same'))\n",
    "model.add(Activation('relu'))\n",
    "model.add(Conv2D(64, (3, 3)))\n",
    "model.add(Activation('relu'))\n",
    "model.add(MaxPooling2D(pool_size=(2, 2)))\n",
    "model.add(Dropout(0.25))\n",
    "\n",
    "model.add(Flatten())\n",
    "model.add(Dense(512))\n",
    "model.add(Activation('relu'))\n",
    "model.add(Dropout(0.5))\n",
    "model.add(Dense(1))\n",
    "model.add(Activation('sigmoid'))\n",
    "\n",
    "# initiate optimizer\n",
    "opt = keras.optimizers.Adam(lr=0.001)\n",
    "\n",
    "# train the model\n",
    "model.compile(loss='binary_crossentropy', optimizer=opt, metrics=['accuracy'])\n",
    "\n",
    "x_train = x_train.astype('float32')\n",
    "x_test = x_test.astype('float32')\n",
    "x_train /= 255\n",
    "x_test /= 255\n",
    "\n",
    "model.fit(x_train, y_train, batch_size=batch_size, epochs=epochs, shuffle=True)"
   ]
  },
  {
   "cell_type": "code",
   "execution_count": null,
   "metadata": {},
   "outputs": [],
   "source": [
    "''' Utilities for concept activation vectors '''\n",
    "import numpy as np\n",
    "\n",
    "from keras import backend as k\n",
    "from keras.models import Sequential\n",
    "from keras.layers import Dense, InputLayer\n",
    "from keras.optimizers import Adam\n",
    "\n",
    "def return_split_models(model, layer):\n",
    "    ''' Split a model into model_f and model_h\n",
    "\n",
    "    Parameters\n",
    "    ----------\n",
    "    model : (keras.engine.sequential.Sequential)\n",
    "        Keras sequential model to split\n",
    "    layer : (int)\n",
    "        Integer specifying layer to split model on\n",
    "\n",
    "    Returns\n",
    "    -------\n",
    "    model_f : (keras.engine.sequential.Sequential)\n",
    "        Keras sequential model that is the first part\n",
    "    model_h : (keras.engine.sequential.Sequential)\n",
    "        Keras sequential model that is the second part\n",
    "    '''\n",
    "    model_f, model_h = Sequential(), Sequential()\n",
    "    for current_layer in range(0, layer+1):\n",
    "        model_f.add(model.layers[current_layer])\n",
    "    # Write input layer for model_h\n",
    "    model_h.add(InputLayer(input_shape=model.layers[layer+1].input_shape[1:]))\n",
    "    for current_layer in range(layer+1, len(model.layers)):\n",
    "        model_h.add(model.layers[current_layer])\n",
    "    return model_f, model_h\n",
    "\n",
    "def train_cav(model_f, x_concept, y_concept):\n",
    "    ''' Return the concept activation vector for the concept\n",
    "\n",
    "    Parameters\n",
    "    ----------\n",
    "    model_f : (keras.engine.sequential.Sequential)\n",
    "        First Keras sequential model from return_split_models()\n",
    "    x_concept : (numpy.ndarray)\n",
    "        Training data for concept set, has same size as model training data\n",
    "    y_concept : (numpy.ndarray)\n",
    "        Labels for concept set, has same size as model training labels\n",
    "\n",
    "    Returns\n",
    "    -------\n",
    "    cav : (numpy.ndarray)\n",
    "        Concept activation vector\n",
    "    '''\n",
    "    concept_activations = model_f.predict(x_concept)\n",
    "    binary_classifier = Sequential()\n",
    "    binary_classifier.add(Dense(1, input_shape=concept_activations.shape[1:], activation='sigmoid'))\n",
    "    binary_classifier.compile(loss='binary_crossentropy', optimizer=Adam(lr=0.001), metrics=['accuracy'])\n",
    "    binary_classifier.fit(concept_activations, y_concept, batch_size=32, epochs=20, shuffle=True)\n",
    "    cav = binary_classifier.layers[0].get_weights()[0]\n",
    "    return cav\n",
    "\n",
    "def conceptual_sensitivity(example, model_f, model_h, concept_cav):\n",
    "    ''' Return the conceptual conceptual sensitivity for a given example\n",
    "\n",
    "    Parameters\n",
    "    ----------\n",
    "    example : (numpy.ndarray)\n",
    "        Example to calculate the concept sensitivity (be sure to reshape)\n",
    "    model_f : (keras.engine.sequential.Sequential)\n",
    "        First Keras sequential model from return_split_models()\n",
    "    model_h : (keras.engine.sequential.Sequential)\n",
    "        Second Keras sequential model from return_split_models()\n",
    "    concept_cav : (numpy.ndarray)\n",
    "        Numpy array with the linear concept activation vector for a given concept\n",
    "\n",
    "    Returns\n",
    "    -------\n",
    "    sensitivity : (float32)\n",
    "        Sensitivity for inputted examples\n",
    "    '''\n",
    "    example = np.expand_dims(example, axis = 0)\n",
    "    model_f_activations = model_f.predict(example)[0]\n",
    "    model_f_activations.shape = (1, model_h.input_shape[1])\n",
    "    gradients = k.gradients(model_h.output, model_h.input)\n",
    "    gradient_func = k.function([model_h.input], gradients)\n",
    "    calc_grad = gradient_func([model_f_activations])[0]\n",
    "    sensitivity = np.dot(calc_grad, concept_cav)\n",
    "    return sensitivity\n"
   ]
  },
  {
   "cell_type": "code",
   "execution_count": null,
   "metadata": {},
   "outputs": [],
   "source": [
    "model_f, model_h = return_split_models(model, 12)\n",
    "cav_vec = train_cav(model_f, x_train_concept, y_train_concept)"
   ]
  },
  {
   "cell_type": "code",
   "execution_count": null,
   "metadata": {},
   "outputs": [],
   "source": [
    "model_f_activations = model_f.predict(x_train)"
   ]
  },
  {
   "cell_type": "code",
   "execution_count": null,
   "metadata": {},
   "outputs": [],
   "source": [
    "gradients = k.gradients(model_h.output, model_h.input)\n",
    "gradient_func = k.function([model_h.input], gradients)"
   ]
  },
  {
   "cell_type": "code",
   "execution_count": null,
   "metadata": {},
   "outputs": [],
   "source": [
    "calc_grad = gradient_func([model_f_activations])"
   ]
  },
  {
   "cell_type": "code",
   "execution_count": null,
   "metadata": {},
   "outputs": [],
   "source": [
    "calc_grad = gradient_func([model_f_activations])[0]"
   ]
  },
  {
   "cell_type": "code",
   "execution_count": null,
   "metadata": {},
   "outputs": [],
   "source": [
    "x = np.dot(calc_grad, cav_vec)"
   ]
  },
  {
   "cell_type": "code",
   "execution_count": null,
   "metadata": {},
   "outputs": [],
   "source": []
  },
  {
   "cell_type": "code",
   "execution_count": null,
   "metadata": {},
   "outputs": [],
   "source": [
    "def tcav_score(x_train, y_train, model, layer, x_concept, y_concept):\n",
    "    ''' Returns the TCAV score for the training data to a given concept\n",
    "\n",
    "    Parameters\n",
    "    ----------\n",
    "    x_train : (numpy.ndarray)\n",
    "        Training data where the i-th entry as x_train[i] is one example\n",
    "    y_train : (numpy.ndarray)\n",
    "        Training labels where the i-th entry as y_train[i] is one example\n",
    "    model : (keras.engine.sequential.Sequential)\n",
    "        Trained model to use\n",
    "    layer : (int)\n",
    "        Integer specifying layer to split model on\n",
    "    x_concept : (numpy.ndarray)\n",
    "        Training data for concept set, has same size as model training data\n",
    "    y_concept : (numpy.ndarray)\n",
    "        Labels for concept set, has same size as model training labels\n",
    "\n",
    "    Returns\n",
    "    -------\n",
    "    tcav : (list)\n",
    "        TCAV score for given concept and class\n",
    "    '''\n",
    "    model_f, model_h = return_split_models(model, layer)\n",
    "    concept_cav = train_cav(model_f, x_concept, y_concept)\n",
    "    unique_labels = np.unique(y_train)\n",
    "    tcav = []\n",
    "    for label in unique_labels:\n",
    "        training_subset = x_train[np.array(y_train) == 1]\n",
    "        set_size = training_subset.shape[0]\n",
    "        count_of_sensitivity = 0\n",
    "        for example in training_subset:\n",
    "            sensitivity = conceptual_sensitivity(example, model_f, model_h, concept_cav)\n",
    "            print(sensitivity)\n",
    "            if sensitivity > 0:\n",
    "                count_of_sensitivity = count_of_sensitivity + 1\n",
    "        tcav.append(count_of_sensitivity/set_size)\n",
    "    return tcav\n",
    "    "
   ]
  },
  {
   "cell_type": "code",
   "execution_count": null,
   "metadata": {},
   "outputs": [],
   "source": [
    "tcav_score(x_train, y_train, model, 12, x_train_concept, y_train_concept)"
   ]
  },
  {
   "cell_type": "code",
   "execution_count": null,
   "metadata": {},
   "outputs": [],
   "source": [
    "def train_cav(model_f, x_concept, y_concept):\n",
    "    ''' Return the concept activation vector for the concept\n",
    "\n",
    "    Parameters\n",
    "    ----------\n",
    "    model_f : (keras.engine.sequential.Sequential)\n",
    "        First Keras sequential model from return_split_models()\n",
    "    x_concept : (numpy.ndarray)\n",
    "        Training data for concept set, has same size as model training data\n",
    "    y_concept : (numpy.ndarray)\n",
    "        Labels for concept set, has same size as model training labels\n",
    "\n",
    "    Returns\n",
    "    -------\n",
    "    cav : (numpy.ndarray)\n",
    "        Concept activation vector\n",
    "    '''\n",
    "    concept_activations = model_f.predict(x_concept)\n",
    "    binary_classifier = Sequential()\n",
    "    binary_classifier.add(Dense(1, input_shape=concept_activations.shape[1:], activation='sigmoid'))\n",
    "    binary_classifier.compile(loss='binary_crossentropy', optimizer=Adam(lr=0.001), metrics=['accuracy'])\n",
    "    binary_classifier.fit(concept_activations, y_concept, batch_size=32, epochs=20, shuffle=True)\n",
    "    cav = binary_classifier.layers[0].get_weights()[0]\n",
    "    return cav\n",
    "\n",
    "concept_cav = train_cav(model_f, x_train_concept, y_train_concept)"
   ]
  },
  {
   "cell_type": "code",
   "execution_count": null,
   "metadata": {},
   "outputs": [],
   "source": [
    "def conceptual_sensitivity(example, model_f, model_h, concept_cav):\n",
    "    ''' Return the conceptual conceptual sensitivity for a given example\n",
    "\n",
    "    Parameters\n",
    "    ----------\n",
    "    example : (numpy.ndarray)\n",
    "        Example to calculate the concept sensitivity (be sure to reshape)\n",
    "    model_f : (keras.engine.sequential.Sequential)\n",
    "        First Keras sequential model from return_split_models()\n",
    "    model_h : (keras.engine.sequential.Sequential)\n",
    "        Second Keras sequential model from return_split_models()\n",
    "    concept_cav : (numpy.ndarray)\n",
    "        Numpy array with the linear concept activation vector for a given concept\n",
    "\n",
    "    Returns\n",
    "    -------\n",
    "    sensitivity : (float32)\n",
    "        Sensitivity for inputted examples\n",
    "    '''\n",
    "    model_f_activations = model_f.predict(example)[0]\n",
    "    gradients = k.gradients(model_h.output, model_h.input)\n",
    "    gradient_func = k.function([model_h.input], gradients)\n",
    "    calc_grad = gradient_func([model_f_activations])[0]\n",
    "    sensitivity = np.dot(calc_grad, concept_cav)\n",
    "    return sensitivity\n",
    "\n",
    "conceptual_sensitivity(x_train[0], model_f, model_h, concept_cav)"
   ]
  },
  {
   "cell_type": "code",
   "execution_count": null,
   "metadata": {},
   "outputs": [],
   "source": [
    "model_f.predict(x_train)"
   ]
  },
  {
   "cell_type": "code",
   "execution_count": null,
   "metadata": {},
   "outputs": [],
   "source": [
    "x_train[0]"
   ]
  },
  {
   "cell_type": "code",
   "execution_count": null,
   "metadata": {},
   "outputs": [],
   "source": [
    "model_f = Sequential()\n",
    "model_f.add(Conv2D(32, (3, 3), padding='same',\n",
    "                 input_shape=x_train.shape[1:], weights = model.layers[0].get_weights()))\n",
    "model_f.add(Activation('relu'))\n",
    "model_f.add(Conv2D(32, (3, 3), weights = model.layers[2].get_weights()))\n",
    "model_f.add(Activation('relu'))\n",
    "model_f.add(MaxPooling2D(pool_size=(2, 2)))\n",
    "model_f.add(Dropout(0.25))\n",
    "\n",
    "model_f.add(Conv2D(64, (3, 3), padding='same', weights = model.layers[6].get_weights()))\n",
    "model_f.add(Activation('relu'))\n",
    "model_f.add(Conv2D(64, (3, 3), weights = model.layers[8].get_weights()))\n",
    "model_f.add(Activation('relu'))\n",
    "model_f.add(MaxPooling2D(pool_size=(2, 2)))\n",
    "model_f.add(Flatten())\n",
    "\n",
    "acts = model_f.predict(x_train_concept)\n",
    "\n",
    "model_h = Sequential()\n",
    "model_h.add(Dense(512, input_shape=acts.shape[1:], weights = model.layers[13].get_weights()))\n",
    "model_h.add(Activation('relu'))\n",
    "model_h.add(Dropout(0.5))\n",
    "model_h.add(Dense(1, weights = model.layers[16].get_weights()))\n",
    "model_h.add(Activation('sigmoid'))\n",
    "\n",
    "concept_cav = train_cav(model_f, x_train_concept, y_train_concept)"
   ]
  },
  {
   "cell_type": "code",
   "execution_count": null,
   "metadata": {},
   "outputs": [],
   "source": [
    "training_subset = x_train[np.array(y_train) == 1]\n",
    "\n",
    "gradients = k.gradients(model_h.output, model_h.input)\n",
    "gradient_func = k.function([model_h.input], gradients)\n",
    "pos_sens = 0\n",
    "list_sens = []\n",
    "for train_ex in training_subset:\n",
    "    example = train_ex.reshape((1, 32, 32, 3))\n",
    "    example_f = model_f.predict(example)[0].reshape((1,2304))\n",
    "    calc_grad = gradient_func([example_f])[0]\n",
    "    sensitivity = np.dot(calc_grad, concept_cav)\n",
    "    list_sens.append(sensitivity)\n",
    "    if sensitivity > 0:\n",
    "        pos_sens = pos_sens + 1\n"
   ]
  },
  {
   "cell_type": "code",
   "execution_count": null,
   "metadata": {},
   "outputs": [],
   "source": []
  },
  {
   "cell_type": "code",
   "execution_count": null,
   "metadata": {},
   "outputs": [],
   "source": [
    "import seaborn as sns, numpy as np\n",
    "ax = sns.distplot(list_sens)\n",
    "plt.show()"
   ]
  },
  {
   "cell_type": "code",
   "execution_count": null,
   "metadata": {},
   "outputs": [],
   "source": [
    "training_subset = x_train[np.array(y_train) == 0]\n",
    "i = 777\n",
    "example = training_subset[i].reshape((1, 32, 32, 3))\n",
    "example_f = model_f.predict(example)[0].reshape((1,2304))\n",
    "gradients = k.gradients(model_h.output, model_h.input)\n",
    "gradient_func = k.function([model_h.input], gradients)\n",
    "calc_grad = gradient_func([example_f])[0]\n",
    "sensitivity = np.dot(calc_grad, concept_cav)\n",
    "sensitivity"
   ]
  }
 ],
 "metadata": {
  "kernelspec": {
   "display_name": "Python 3",
   "language": "python",
   "name": "python3"
  },
  "language_info": {
   "codemirror_mode": {
    "name": "ipython",
    "version": 3
   },
   "file_extension": ".py",
   "mimetype": "text/x-python",
   "name": "python",
   "nbconvert_exporter": "python",
   "pygments_lexer": "ipython3",
   "version": "3.6.5"
  }
 },
 "nbformat": 4,
 "nbformat_minor": 2
}
